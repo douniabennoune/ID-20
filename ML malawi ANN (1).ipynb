{
 "cells": [
  {
   "cell_type": "code",
   "execution_count": 2,
   "metadata": {},
   "outputs": [
    {
     "name": "stderr",
     "output_type": "stream",
     "text": [
      "/Users/mac/anaconda3/lib/python3.7/site-packages/tensorflow/python/framework/dtypes.py:516: FutureWarning: Passing (type, 1) or '1type' as a synonym of type is deprecated; in a future version of numpy, it will be understood as (type, (1,)) / '(1,)type'.\n",
      "  _np_qint8 = np.dtype([(\"qint8\", np.int8, 1)])\n",
      "/Users/mac/anaconda3/lib/python3.7/site-packages/tensorflow/python/framework/dtypes.py:517: FutureWarning: Passing (type, 1) or '1type' as a synonym of type is deprecated; in a future version of numpy, it will be understood as (type, (1,)) / '(1,)type'.\n",
      "  _np_quint8 = np.dtype([(\"quint8\", np.uint8, 1)])\n",
      "/Users/mac/anaconda3/lib/python3.7/site-packages/tensorflow/python/framework/dtypes.py:518: FutureWarning: Passing (type, 1) or '1type' as a synonym of type is deprecated; in a future version of numpy, it will be understood as (type, (1,)) / '(1,)type'.\n",
      "  _np_qint16 = np.dtype([(\"qint16\", np.int16, 1)])\n",
      "/Users/mac/anaconda3/lib/python3.7/site-packages/tensorflow/python/framework/dtypes.py:519: FutureWarning: Passing (type, 1) or '1type' as a synonym of type is deprecated; in a future version of numpy, it will be understood as (type, (1,)) / '(1,)type'.\n",
      "  _np_quint16 = np.dtype([(\"quint16\", np.uint16, 1)])\n",
      "/Users/mac/anaconda3/lib/python3.7/site-packages/tensorflow/python/framework/dtypes.py:520: FutureWarning: Passing (type, 1) or '1type' as a synonym of type is deprecated; in a future version of numpy, it will be understood as (type, (1,)) / '(1,)type'.\n",
      "  _np_qint32 = np.dtype([(\"qint32\", np.int32, 1)])\n",
      "/Users/mac/anaconda3/lib/python3.7/site-packages/tensorflow/python/framework/dtypes.py:525: FutureWarning: Passing (type, 1) or '1type' as a synonym of type is deprecated; in a future version of numpy, it will be understood as (type, (1,)) / '(1,)type'.\n",
      "  np_resource = np.dtype([(\"resource\", np.ubyte, 1)])\n",
      "/Users/mac/anaconda3/lib/python3.7/site-packages/tensorboard/compat/tensorflow_stub/dtypes.py:541: FutureWarning: Passing (type, 1) or '1type' as a synonym of type is deprecated; in a future version of numpy, it will be understood as (type, (1,)) / '(1,)type'.\n",
      "  _np_qint8 = np.dtype([(\"qint8\", np.int8, 1)])\n",
      "/Users/mac/anaconda3/lib/python3.7/site-packages/tensorboard/compat/tensorflow_stub/dtypes.py:542: FutureWarning: Passing (type, 1) or '1type' as a synonym of type is deprecated; in a future version of numpy, it will be understood as (type, (1,)) / '(1,)type'.\n",
      "  _np_quint8 = np.dtype([(\"quint8\", np.uint8, 1)])\n",
      "/Users/mac/anaconda3/lib/python3.7/site-packages/tensorboard/compat/tensorflow_stub/dtypes.py:543: FutureWarning: Passing (type, 1) or '1type' as a synonym of type is deprecated; in a future version of numpy, it will be understood as (type, (1,)) / '(1,)type'.\n",
      "  _np_qint16 = np.dtype([(\"qint16\", np.int16, 1)])\n",
      "/Users/mac/anaconda3/lib/python3.7/site-packages/tensorboard/compat/tensorflow_stub/dtypes.py:544: FutureWarning: Passing (type, 1) or '1type' as a synonym of type is deprecated; in a future version of numpy, it will be understood as (type, (1,)) / '(1,)type'.\n",
      "  _np_quint16 = np.dtype([(\"quint16\", np.uint16, 1)])\n",
      "/Users/mac/anaconda3/lib/python3.7/site-packages/tensorboard/compat/tensorflow_stub/dtypes.py:545: FutureWarning: Passing (type, 1) or '1type' as a synonym of type is deprecated; in a future version of numpy, it will be understood as (type, (1,)) / '(1,)type'.\n",
      "  _np_qint32 = np.dtype([(\"qint32\", np.int32, 1)])\n",
      "/Users/mac/anaconda3/lib/python3.7/site-packages/tensorboard/compat/tensorflow_stub/dtypes.py:550: FutureWarning: Passing (type, 1) or '1type' as a synonym of type is deprecated; in a future version of numpy, it will be understood as (type, (1,)) / '(1,)type'.\n",
      "  np_resource = np.dtype([(\"resource\", np.ubyte, 1)])\n"
     ]
    }
   ],
   "source": [
    "# TensorFlow ≥2.0 is required\n",
    "import tensorflow as tf\n",
    "\n",
    "\n",
    "# Common imports\n",
    "import pandas as pd\n",
    "import numpy as np\n",
    "import os\n",
    "# to make this notebook's output stable across runs\n",
    "np.random.seed(42)\n",
    "\n",
    "# To plot pretty figures\n",
    "%matplotlib inline\n",
    "import matplotlib as mpl\n",
    "import matplotlib.pyplot as plt\n",
    "mpl.rc('axes', labelsize=14)\n",
    "mpl.rc('xtick', labelsize=12)\n",
    "mpl.rc('ytick', labelsize=12)\n",
    "\n",
    "# Ignore useless warnings (see SciPy issue #5998)\n",
    "import warnings\n",
    "warnings.filterwarnings(action=\"ignore\", message=\"^internal gelsd\")\n"
   ]
  },
  {
   "cell_type": "code",
   "execution_count": 3,
   "metadata": {},
   "outputs": [],
   "source": [
    "np.random.seed(42)"
   ]
  },
  {
   "cell_type": "code",
   "execution_count": 4,
   "metadata": {},
   "outputs": [],
   "source": [
    "from tensorflow import keras"
   ]
  },
  {
   "cell_type": "code",
   "execution_count": 5,
   "metadata": {},
   "outputs": [],
   "source": [
    "Df = pd.read_csv(\"/Users/mac/Downloads/Train.csv\")"
   ]
  },
  {
   "cell_type": "code",
   "execution_count": 6,
   "metadata": {},
   "outputs": [
    {
     "data": {
      "text/html": [
       "<div>\n",
       "<style scoped>\n",
       "    .dataframe tbody tr th:only-of-type {\n",
       "        vertical-align: middle;\n",
       "    }\n",
       "\n",
       "    .dataframe tbody tr th {\n",
       "        vertical-align: top;\n",
       "    }\n",
       "\n",
       "    .dataframe thead th {\n",
       "        text-align: right;\n",
       "    }\n",
       "</style>\n",
       "<table border=\"1\" class=\"dataframe\">\n",
       "  <thead>\n",
       "    <tr style=\"text-align: right;\">\n",
       "      <th></th>\n",
       "      <th>X</th>\n",
       "      <th>Y</th>\n",
       "      <th>target_2015</th>\n",
       "      <th>elevation</th>\n",
       "      <th>precip 2014-11-16 - 2014-11-23</th>\n",
       "      <th>precip 2014-11-23 - 2014-11-30</th>\n",
       "      <th>precip 2014-11-30 - 2014-12-07</th>\n",
       "      <th>precip 2014-12-07 - 2014-12-14</th>\n",
       "      <th>precip 2014-12-14 - 2014-12-21</th>\n",
       "      <th>precip 2014-12-21 - 2014-12-28</th>\n",
       "      <th>...</th>\n",
       "      <th>precip 2019-03-24 - 2019-03-31</th>\n",
       "      <th>precip 2019-03-31 - 2019-04-07</th>\n",
       "      <th>precip 2019-04-07 - 2019-04-14</th>\n",
       "      <th>precip 2019-04-14 - 2019-04-21</th>\n",
       "      <th>precip 2019-04-21 - 2019-04-28</th>\n",
       "      <th>precip 2019-04-28 - 2019-05-05</th>\n",
       "      <th>precip 2019-05-05 - 2019-05-12</th>\n",
       "      <th>precip 2019-05-12 - 2019-05-19</th>\n",
       "      <th>LC_Type1_mode</th>\n",
       "      <th>Square_ID</th>\n",
       "    </tr>\n",
       "  </thead>\n",
       "  <tbody>\n",
       "    <tr>\n",
       "      <th>0</th>\n",
       "      <td>34.26</td>\n",
       "      <td>-15.91</td>\n",
       "      <td>0.0</td>\n",
       "      <td>887.764222</td>\n",
       "      <td>0.0</td>\n",
       "      <td>0.0</td>\n",
       "      <td>0.0</td>\n",
       "      <td>14.844025</td>\n",
       "      <td>14.552823</td>\n",
       "      <td>12.237766</td>\n",
       "      <td>...</td>\n",
       "      <td>0.896323</td>\n",
       "      <td>1.68</td>\n",
       "      <td>0.0</td>\n",
       "      <td>0.0</td>\n",
       "      <td>0.0</td>\n",
       "      <td>0.0</td>\n",
       "      <td>0.0</td>\n",
       "      <td>0.0</td>\n",
       "      <td>9</td>\n",
       "      <td>4e3c3896-14ce-11ea-bce5-f49634744a41</td>\n",
       "    </tr>\n",
       "    <tr>\n",
       "      <th>1</th>\n",
       "      <td>34.26</td>\n",
       "      <td>-15.90</td>\n",
       "      <td>0.0</td>\n",
       "      <td>743.403912</td>\n",
       "      <td>0.0</td>\n",
       "      <td>0.0</td>\n",
       "      <td>0.0</td>\n",
       "      <td>14.844025</td>\n",
       "      <td>14.552823</td>\n",
       "      <td>12.237766</td>\n",
       "      <td>...</td>\n",
       "      <td>0.896323</td>\n",
       "      <td>1.68</td>\n",
       "      <td>0.0</td>\n",
       "      <td>0.0</td>\n",
       "      <td>0.0</td>\n",
       "      <td>0.0</td>\n",
       "      <td>0.0</td>\n",
       "      <td>0.0</td>\n",
       "      <td>9</td>\n",
       "      <td>4e3c3897-14ce-11ea-bce5-f49634744a41</td>\n",
       "    </tr>\n",
       "    <tr>\n",
       "      <th>2</th>\n",
       "      <td>34.26</td>\n",
       "      <td>-15.89</td>\n",
       "      <td>0.0</td>\n",
       "      <td>565.728343</td>\n",
       "      <td>0.0</td>\n",
       "      <td>0.0</td>\n",
       "      <td>0.0</td>\n",
       "      <td>14.844025</td>\n",
       "      <td>14.552823</td>\n",
       "      <td>12.237766</td>\n",
       "      <td>...</td>\n",
       "      <td>0.896323</td>\n",
       "      <td>1.68</td>\n",
       "      <td>0.0</td>\n",
       "      <td>0.0</td>\n",
       "      <td>0.0</td>\n",
       "      <td>0.0</td>\n",
       "      <td>0.0</td>\n",
       "      <td>0.0</td>\n",
       "      <td>9</td>\n",
       "      <td>4e3c3898-14ce-11ea-bce5-f49634744a41</td>\n",
       "    </tr>\n",
       "    <tr>\n",
       "      <th>3</th>\n",
       "      <td>34.26</td>\n",
       "      <td>-15.88</td>\n",
       "      <td>0.0</td>\n",
       "      <td>443.392774</td>\n",
       "      <td>0.0</td>\n",
       "      <td>0.0</td>\n",
       "      <td>0.0</td>\n",
       "      <td>14.844025</td>\n",
       "      <td>14.552823</td>\n",
       "      <td>12.237766</td>\n",
       "      <td>...</td>\n",
       "      <td>0.896323</td>\n",
       "      <td>1.68</td>\n",
       "      <td>0.0</td>\n",
       "      <td>0.0</td>\n",
       "      <td>0.0</td>\n",
       "      <td>0.0</td>\n",
       "      <td>0.0</td>\n",
       "      <td>0.0</td>\n",
       "      <td>10</td>\n",
       "      <td>4e3c3899-14ce-11ea-bce5-f49634744a41</td>\n",
       "    </tr>\n",
       "    <tr>\n",
       "      <th>4</th>\n",
       "      <td>34.26</td>\n",
       "      <td>-15.87</td>\n",
       "      <td>0.0</td>\n",
       "      <td>437.443428</td>\n",
       "      <td>0.0</td>\n",
       "      <td>0.0</td>\n",
       "      <td>0.0</td>\n",
       "      <td>14.844025</td>\n",
       "      <td>14.552823</td>\n",
       "      <td>12.237766</td>\n",
       "      <td>...</td>\n",
       "      <td>0.896323</td>\n",
       "      <td>1.68</td>\n",
       "      <td>0.0</td>\n",
       "      <td>0.0</td>\n",
       "      <td>0.0</td>\n",
       "      <td>0.0</td>\n",
       "      <td>0.0</td>\n",
       "      <td>0.0</td>\n",
       "      <td>10</td>\n",
       "      <td>4e3c389a-14ce-11ea-bce5-f49634744a41</td>\n",
       "    </tr>\n",
       "  </tbody>\n",
       "</table>\n",
       "<p>5 rows × 40 columns</p>\n",
       "</div>"
      ],
      "text/plain": [
       "       X      Y  target_2015   elevation  precip 2014-11-16 - 2014-11-23  \\\n",
       "0  34.26 -15.91          0.0  887.764222                             0.0   \n",
       "1  34.26 -15.90          0.0  743.403912                             0.0   \n",
       "2  34.26 -15.89          0.0  565.728343                             0.0   \n",
       "3  34.26 -15.88          0.0  443.392774                             0.0   \n",
       "4  34.26 -15.87          0.0  437.443428                             0.0   \n",
       "\n",
       "   precip 2014-11-23 - 2014-11-30  precip 2014-11-30 - 2014-12-07  \\\n",
       "0                             0.0                             0.0   \n",
       "1                             0.0                             0.0   \n",
       "2                             0.0                             0.0   \n",
       "3                             0.0                             0.0   \n",
       "4                             0.0                             0.0   \n",
       "\n",
       "   precip 2014-12-07 - 2014-12-14  precip 2014-12-14 - 2014-12-21  \\\n",
       "0                       14.844025                       14.552823   \n",
       "1                       14.844025                       14.552823   \n",
       "2                       14.844025                       14.552823   \n",
       "3                       14.844025                       14.552823   \n",
       "4                       14.844025                       14.552823   \n",
       "\n",
       "   precip 2014-12-21 - 2014-12-28  ...  precip 2019-03-24 - 2019-03-31  \\\n",
       "0                       12.237766  ...                        0.896323   \n",
       "1                       12.237766  ...                        0.896323   \n",
       "2                       12.237766  ...                        0.896323   \n",
       "3                       12.237766  ...                        0.896323   \n",
       "4                       12.237766  ...                        0.896323   \n",
       "\n",
       "   precip 2019-03-31 - 2019-04-07  precip 2019-04-07 - 2019-04-14  \\\n",
       "0                            1.68                             0.0   \n",
       "1                            1.68                             0.0   \n",
       "2                            1.68                             0.0   \n",
       "3                            1.68                             0.0   \n",
       "4                            1.68                             0.0   \n",
       "\n",
       "   precip 2019-04-14 - 2019-04-21  precip 2019-04-21 - 2019-04-28  \\\n",
       "0                             0.0                             0.0   \n",
       "1                             0.0                             0.0   \n",
       "2                             0.0                             0.0   \n",
       "3                             0.0                             0.0   \n",
       "4                             0.0                             0.0   \n",
       "\n",
       "   precip 2019-04-28 - 2019-05-05  precip 2019-05-05 - 2019-05-12  \\\n",
       "0                             0.0                             0.0   \n",
       "1                             0.0                             0.0   \n",
       "2                             0.0                             0.0   \n",
       "3                             0.0                             0.0   \n",
       "4                             0.0                             0.0   \n",
       "\n",
       "   precip 2019-05-12 - 2019-05-19  LC_Type1_mode  \\\n",
       "0                             0.0              9   \n",
       "1                             0.0              9   \n",
       "2                             0.0              9   \n",
       "3                             0.0             10   \n",
       "4                             0.0             10   \n",
       "\n",
       "                              Square_ID  \n",
       "0  4e3c3896-14ce-11ea-bce5-f49634744a41  \n",
       "1  4e3c3897-14ce-11ea-bce5-f49634744a41  \n",
       "2  4e3c3898-14ce-11ea-bce5-f49634744a41  \n",
       "3  4e3c3899-14ce-11ea-bce5-f49634744a41  \n",
       "4  4e3c389a-14ce-11ea-bce5-f49634744a41  \n",
       "\n",
       "[5 rows x 40 columns]"
      ]
     },
     "execution_count": 6,
     "metadata": {},
     "output_type": "execute_result"
    }
   ],
   "source": [
    "Df.head()"
   ]
  },
  {
   "cell_type": "code",
   "execution_count": 11,
   "metadata": {},
   "outputs": [],
   "source": [
    "# 2014\n",
    "Df4 = Df.iloc[:,4:11]\n",
    "\n",
    "# 2015\n",
    "Df5 = Df.iloc[:,11:21]\n",
    "# 2019 \n",
    "Df9 = Df.iloc[:,21:38]\n",
    "\n",
    "# elevation and LC_Type1_mode\n",
    "elT = Df[[\"elevation\",\"LC_Type1_mode\"]]"
   ]
  },
  {
   "cell_type": "code",
   "execution_count": 12,
   "metadata": {},
   "outputs": [
    {
     "data": {
      "text/plain": [
       "<Figure size 360x360 with 0 Axes>"
      ]
     },
     "execution_count": 12,
     "metadata": {},
     "output_type": "execute_result"
    },
    {
     "data": {
      "image/png": "[encoded data removed]",
      "text/plain": [
       "<Figure size 432x288 with 1 Axes>"
      ]
     },
     "metadata": {
      "needs_background": "light"
     },
     "output_type": "display_data"
    },
    {
     "data": {
      "text/plain": [
       "<Figure size 360x360 with 0 Axes>"
      ]
     },
     "metadata": {},
     "output_type": "display_data"
    }
   ],
   "source": [
    "plt.plot(Df4.mean(1),color = 'green')\n",
    "plt.plot(Df5.mean(1), color = 'blue')\n",
    "plt.plot(Df9.mean(1), color = 'red')\n",
    "plt.figure(figsize=(5,5))"
   ]
  },
  {
   "cell_type": "code",
   "execution_count": 13,
   "metadata": {},
   "outputs": [],
   "source": [
    "df = pd.concat([Df['Square_ID'],Df4 , Df5,elT],axis=1)\n"
   ]
  },
  {
   "cell_type": "code",
   "execution_count": 14,
   "metadata": {},
   "outputs": [],
   "source": [
    "X = df.drop('Square_ID',axis=1)\n",
    "y = Df['target_2015']"
   ]
  },
  {
   "cell_type": "code",
   "execution_count": 15,
   "metadata": {},
   "outputs": [
    {
     "data": {
      "text/html": [
       "<div>\n",
       "<style scoped>\n",
       "    .dataframe tbody tr th:only-of-type {\n",
       "        vertical-align: middle;\n",
       "    }\n",
       "\n",
       "    .dataframe tbody tr th {\n",
       "        vertical-align: top;\n",
       "    }\n",
       "\n",
       "    .dataframe thead th {\n",
       "        text-align: right;\n",
       "    }\n",
       "</style>\n",
       "<table border=\"1\" class=\"dataframe\">\n",
       "  <thead>\n",
       "    <tr style=\"text-align: right;\">\n",
       "      <th></th>\n",
       "      <th>precip 2014-11-16 - 2014-11-23</th>\n",
       "      <th>precip 2014-11-23 - 2014-11-30</th>\n",
       "      <th>precip 2014-11-30 - 2014-12-07</th>\n",
       "      <th>precip 2014-12-07 - 2014-12-14</th>\n",
       "      <th>precip 2014-12-14 - 2014-12-21</th>\n",
       "      <th>precip 2014-12-21 - 2014-12-28</th>\n",
       "      <th>precip 2014-12-28 - 2015-01-04</th>\n",
       "      <th>precip 2015-01-04 - 2015-01-11</th>\n",
       "      <th>precip 2015-01-11 - 2015-01-18</th>\n",
       "      <th>precip 2015-01-18 - 2015-01-25</th>\n",
       "      <th>precip 2015-01-25 - 2015-02-01</th>\n",
       "      <th>precip 2015-02-01 - 2015-02-08</th>\n",
       "      <th>precip 2015-02-08 - 2015-02-15</th>\n",
       "      <th>precip 2015-02-15 - 2015-02-22</th>\n",
       "      <th>precip 2015-02-22 - 2015-03-01</th>\n",
       "      <th>precip 2015-03-01 - 2015-03-08</th>\n",
       "      <th>precip 2015-03-08 - 2015-03-15</th>\n",
       "      <th>elevation</th>\n",
       "      <th>LC_Type1_mode</th>\n",
       "    </tr>\n",
       "  </thead>\n",
       "  <tbody>\n",
       "    <tr>\n",
       "      <th>0</th>\n",
       "      <td>0.0</td>\n",
       "      <td>0.0</td>\n",
       "      <td>0.0</td>\n",
       "      <td>14.844025</td>\n",
       "      <td>14.552823</td>\n",
       "      <td>12.237766</td>\n",
       "      <td>57.451361</td>\n",
       "      <td>30.127047</td>\n",
       "      <td>30.449468</td>\n",
       "      <td>1.521829</td>\n",
       "      <td>29.389995</td>\n",
       "      <td>32.878318</td>\n",
       "      <td>8.179804</td>\n",
       "      <td>0.963981</td>\n",
       "      <td>16.659097</td>\n",
       "      <td>3.304466</td>\n",
       "      <td>0.0</td>\n",
       "      <td>887.764222</td>\n",
       "      <td>9</td>\n",
       "    </tr>\n",
       "    <tr>\n",
       "      <th>1</th>\n",
       "      <td>0.0</td>\n",
       "      <td>0.0</td>\n",
       "      <td>0.0</td>\n",
       "      <td>14.844025</td>\n",
       "      <td>14.552823</td>\n",
       "      <td>12.237766</td>\n",
       "      <td>57.451361</td>\n",
       "      <td>30.127047</td>\n",
       "      <td>30.449468</td>\n",
       "      <td>1.521829</td>\n",
       "      <td>29.389995</td>\n",
       "      <td>32.878318</td>\n",
       "      <td>8.179804</td>\n",
       "      <td>0.963981</td>\n",
       "      <td>16.659097</td>\n",
       "      <td>3.304466</td>\n",
       "      <td>0.0</td>\n",
       "      <td>743.403912</td>\n",
       "      <td>9</td>\n",
       "    </tr>\n",
       "    <tr>\n",
       "      <th>2</th>\n",
       "      <td>0.0</td>\n",
       "      <td>0.0</td>\n",
       "      <td>0.0</td>\n",
       "      <td>14.844025</td>\n",
       "      <td>14.552823</td>\n",
       "      <td>12.237766</td>\n",
       "      <td>57.451361</td>\n",
       "      <td>30.127047</td>\n",
       "      <td>30.449468</td>\n",
       "      <td>1.521829</td>\n",
       "      <td>29.389995</td>\n",
       "      <td>32.878318</td>\n",
       "      <td>8.179804</td>\n",
       "      <td>0.963981</td>\n",
       "      <td>16.659097</td>\n",
       "      <td>3.304466</td>\n",
       "      <td>0.0</td>\n",
       "      <td>565.728343</td>\n",
       "      <td>9</td>\n",
       "    </tr>\n",
       "    <tr>\n",
       "      <th>3</th>\n",
       "      <td>0.0</td>\n",
       "      <td>0.0</td>\n",
       "      <td>0.0</td>\n",
       "      <td>14.844025</td>\n",
       "      <td>14.552823</td>\n",
       "      <td>12.237766</td>\n",
       "      <td>57.451361</td>\n",
       "      <td>30.127047</td>\n",
       "      <td>30.449468</td>\n",
       "      <td>1.521829</td>\n",
       "      <td>29.389995</td>\n",
       "      <td>32.878318</td>\n",
       "      <td>8.179804</td>\n",
       "      <td>0.963981</td>\n",
       "      <td>16.659097</td>\n",
       "      <td>3.304466</td>\n",
       "      <td>0.0</td>\n",
       "      <td>443.392774</td>\n",
       "      <td>10</td>\n",
       "    </tr>\n",
       "    <tr>\n",
       "      <th>4</th>\n",
       "      <td>0.0</td>\n",
       "      <td>0.0</td>\n",
       "      <td>0.0</td>\n",
       "      <td>14.844025</td>\n",
       "      <td>14.552823</td>\n",
       "      <td>12.237766</td>\n",
       "      <td>57.451361</td>\n",
       "      <td>30.127047</td>\n",
       "      <td>30.449468</td>\n",
       "      <td>1.521829</td>\n",
       "      <td>29.389995</td>\n",
       "      <td>32.878318</td>\n",
       "      <td>8.179804</td>\n",
       "      <td>0.963981</td>\n",
       "      <td>16.659097</td>\n",
       "      <td>3.304466</td>\n",
       "      <td>0.0</td>\n",
       "      <td>437.443428</td>\n",
       "      <td>10</td>\n",
       "    </tr>\n",
       "  </tbody>\n",
       "</table>\n",
       "</div>"
      ],
      "text/plain": [
       "   precip 2014-11-16 - 2014-11-23  precip 2014-11-23 - 2014-11-30  \\\n",
       "0                             0.0                             0.0   \n",
       "1                             0.0                             0.0   \n",
       "2                             0.0                             0.0   \n",
       "3                             0.0                             0.0   \n",
       "4                             0.0                             0.0   \n",
       "\n",
       "   precip 2014-11-30 - 2014-12-07  precip 2014-12-07 - 2014-12-14  \\\n",
       "0                             0.0                       14.844025   \n",
       "1                             0.0                       14.844025   \n",
       "2                             0.0                       14.844025   \n",
       "3                             0.0                       14.844025   \n",
       "4                             0.0                       14.844025   \n",
       "\n",
       "   precip 2014-12-14 - 2014-12-21  precip 2014-12-21 - 2014-12-28  \\\n",
       "0                       14.552823                       12.237766   \n",
       "1                       14.552823                       12.237766   \n",
       "2                       14.552823                       12.237766   \n",
       "3                       14.552823                       12.237766   \n",
       "4                       14.552823                       12.237766   \n",
       "\n",
       "   precip 2014-12-28 - 2015-01-04  precip 2015-01-04 - 2015-01-11  \\\n",
       "0                       57.451361                       30.127047   \n",
       "1                       57.451361                       30.127047   \n",
       "2                       57.451361                       30.127047   \n",
       "3                       57.451361                       30.127047   \n",
       "4                       57.451361                       30.127047   \n",
       "\n",
       "   precip 2015-01-11 - 2015-01-18  precip 2015-01-18 - 2015-01-25  \\\n",
       "0                       30.449468                        1.521829   \n",
       "1                       30.449468                        1.521829   \n",
       "2                       30.449468                        1.521829   \n",
       "3                       30.449468                        1.521829   \n",
       "4                       30.449468                        1.521829   \n",
       "\n",
       "   precip 2015-01-25 - 2015-02-01  precip 2015-02-01 - 2015-02-08  \\\n",
       "0                       29.389995                       32.878318   \n",
       "1                       29.389995                       32.878318   \n",
       "2                       29.389995                       32.878318   \n",
       "3                       29.389995                       32.878318   \n",
       "4                       29.389995                       32.878318   \n",
       "\n",
       "   precip 2015-02-08 - 2015-02-15  precip 2015-02-15 - 2015-02-22  \\\n",
       "0                        8.179804                        0.963981   \n",
       "1                        8.179804                        0.963981   \n",
       "2                        8.179804                        0.963981   \n",
       "3                        8.179804                        0.963981   \n",
       "4                        8.179804                        0.963981   \n",
       "\n",
       "   precip 2015-02-22 - 2015-03-01  precip 2015-03-01 - 2015-03-08  \\\n",
       "0                       16.659097                        3.304466   \n",
       "1                       16.659097                        3.304466   \n",
       "2                       16.659097                        3.304466   \n",
       "3                       16.659097                        3.304466   \n",
       "4                       16.659097                        3.304466   \n",
       "\n",
       "   precip 2015-03-08 - 2015-03-15   elevation  LC_Type1_mode  \n",
       "0                             0.0  887.764222              9  \n",
       "1                             0.0  743.403912              9  \n",
       "2                             0.0  565.728343              9  \n",
       "3                             0.0  443.392774             10  \n",
       "4                             0.0  437.443428             10  "
      ]
     },
     "execution_count": 15,
     "metadata": {},
     "output_type": "execute_result"
    }
   ],
   "source": [
    "X.head()"
   ]
  },
  {
   "cell_type": "code",
   "execution_count": 16,
   "metadata": {},
   "outputs": [
    {
     "data": {
      "text/plain": [
       "0    0.0\n",
       "1    0.0\n",
       "2    0.0\n",
       "3    0.0\n",
       "4    0.0\n",
       "Name: target_2015, dtype: float64"
      ]
     },
     "execution_count": 16,
     "metadata": {},
     "output_type": "execute_result"
    }
   ],
   "source": [
    "y.head()"
   ]
  },
  {
   "cell_type": "code",
   "execution_count": 17,
   "metadata": {},
   "outputs": [],
   "source": [
    "from sklearn.datasets import fetch_california_housing\n",
    "from sklearn.model_selection import train_test_split\n",
    "from sklearn.preprocessing import StandardScaler\n",
    "\n",
    "X_train_full, X_test, y_train_full, y_test = train_test_split(X, y, test_size=0.20, random_state=42)\n",
    "X_train, X_valid, y_train, y_valid = train_test_split(X_train_full, y_train_full, random_state=42)"
   ]
  },
  {
   "cell_type": "code",
   "execution_count": 18,
   "metadata": {},
   "outputs": [
    {
     "data": {
      "text/plain": [
       "(9879, 19)"
      ]
     },
     "execution_count": 18,
     "metadata": {},
     "output_type": "execute_result"
    }
   ],
   "source": [
    "X_train.shape"
   ]
  },
  {
   "cell_type": "code",
   "execution_count": 19,
   "metadata": {},
   "outputs": [
    {
     "data": {
      "text/plain": [
       "(3294, 19)"
      ]
     },
     "execution_count": 19,
     "metadata": {},
     "output_type": "execute_result"
    }
   ],
   "source": [
    "X_test.shape"
   ]
  },
  {
   "cell_type": "code",
   "execution_count": 20,
   "metadata": {},
   "outputs": [
    {
     "data": {
      "text/plain": [
       "(3293, 19)"
      ]
     },
     "execution_count": 20,
     "metadata": {},
     "output_type": "execute_result"
    }
   ],
   "source": [
    "X_valid.shape"
   ]
  },
  {
   "cell_type": "code",
   "execution_count": 21,
   "metadata": {},
   "outputs": [
    {
     "name": "stderr",
     "output_type": "stream",
     "text": [
      "/Users/mac/anaconda3/lib/python3.7/site-packages/sklearn/preprocessing/data.py:645: DataConversionWarning: Data with input dtype int64, float64 were all converted to float64 by StandardScaler.\n",
      "  return self.partial_fit(X, y)\n",
      "/Users/mac/anaconda3/lib/python3.7/site-packages/sklearn/base.py:464: DataConversionWarning: Data with input dtype int64, float64 were all converted to float64 by StandardScaler.\n",
      "  return self.fit(X, **fit_params).transform(X)\n",
      "/Users/mac/anaconda3/lib/python3.7/site-packages/ipykernel_launcher.py:3: DataConversionWarning: Data with input dtype int64, float64 were all converted to float64 by StandardScaler.\n",
      "  This is separate from the ipykernel package so we can avoid doing imports until\n",
      "/Users/mac/anaconda3/lib/python3.7/site-packages/ipykernel_launcher.py:4: DataConversionWarning: Data with input dtype int64, float64 were all converted to float64 by StandardScaler.\n",
      "  after removing the cwd from sys.path.\n"
     ]
    }
   ],
   "source": [
    "scaler = StandardScaler()\n",
    "X_train = scaler.fit_transform(X_train)\n",
    "X_valid = scaler.transform(X_valid)\n",
    "X_test = scaler.transform(X_test)"
   ]
  },
  {
   "cell_type": "code",
   "execution_count": 22,
   "metadata": {},
   "outputs": [
    {
     "data": {
      "text/plain": [
       "(19,)"
      ]
     },
     "execution_count": 22,
     "metadata": {},
     "output_type": "execute_result"
    }
   ],
   "source": [
    "X_train.shape[1:]"
   ]
  },
  {
   "cell_type": "code",
   "execution_count": 23,
   "metadata": {},
   "outputs": [
    {
     "name": "stderr",
     "output_type": "stream",
     "text": [
      "WARNING: Logging before flag parsing goes to stderr.\n",
      "W0402 01:21:56.820163 4436665792 deprecation.py:506] From /Users/mac/anaconda3/lib/python3.7/site-packages/tensorflow/python/ops/init_ops.py:1251: calling VarianceScaling.__init__ (from tensorflow.python.ops.init_ops) with dtype is deprecated and will be removed in a future version.\n",
      "Instructions for updating:\n",
      "Call initializer instance with the dtype argument instead of passing it to the constructor\n"
     ]
    }
   ],
   "source": [
    "np.random.seed(42)\n",
    "model = keras.models.Sequential([\n",
    "    keras.layers.Flatten(input_shape=X_train.shape[1:]),\n",
    "    keras.layers.Dense(9, activation=\"relu\"),\n",
    "    keras.layers.Dense(5, activation=\"relu\"),\n",
    "    keras.layers.Dense(1, activation=\"sigmoid\")\n",
    "])\n"
   ]
  },
  {
   "cell_type": "code",
   "execution_count": 24,
   "metadata": {},
   "outputs": [],
   "source": [
    "np.random.seed(42)"
   ]
  },
  {
   "cell_type": "code",
   "execution_count": 25,
   "metadata": {},
   "outputs": [
    {
     "name": "stdout",
     "output_type": "stream",
     "text": [
      "Train on 9879 samples, validate on 3293 samples\n",
      "Epoch 1/20\n",
      "9879/9879 [==============================] - 1s 64us/sample - loss: 0.2513 - val_loss: 0.2308\n",
      "Epoch 2/20\n",
      "9879/9879 [==============================] - 0s 45us/sample - loss: 0.2147 - val_loss: 0.1982\n",
      "Epoch 3/20\n",
      "9879/9879 [==============================] - 0s 44us/sample - loss: 0.1860 - val_loss: 0.1725\n",
      "Epoch 4/20\n",
      "9879/9879 [==============================] - 0s 44us/sample - loss: 0.1632 - val_loss: 0.1521\n",
      "Epoch 5/20\n",
      "9879/9879 [==============================] - 0s 43us/sample - loss: 0.1451 - val_loss: 0.1358\n",
      "Epoch 6/20\n",
      "9879/9879 [==============================] - 0s 44us/sample - loss: 0.1306 - val_loss: 0.1226\n",
      "Epoch 7/20\n",
      "9879/9879 [==============================] - 0s 46us/sample - loss: 0.1188 - val_loss: 0.1118\n",
      "Epoch 8/20\n",
      "9879/9879 [==============================] - 0s 46us/sample - loss: 0.1090 - val_loss: 0.1028\n",
      "Epoch 9/20\n",
      "9879/9879 [==============================] - 0s 45us/sample - loss: 0.1008 - val_loss: 0.0954\n",
      "Epoch 10/20\n",
      "9879/9879 [==============================] - 0s 45us/sample - loss: 0.0941 - val_loss: 0.0892\n",
      "Epoch 11/20\n",
      "9879/9879 [==============================] - 0s 45us/sample - loss: 0.0884 - val_loss: 0.0840\n",
      "Epoch 12/20\n",
      "9879/9879 [==============================] - 0s 45us/sample - loss: 0.0836 - val_loss: 0.0796\n",
      "Epoch 13/20\n",
      "9879/9879 [==============================] - 0s 51us/sample - loss: 0.0795 - val_loss: 0.0759\n",
      "Epoch 14/20\n",
      "9879/9879 [==============================] - 1s 53us/sample - loss: 0.0760 - val_loss: 0.0727\n",
      "Epoch 15/20\n",
      "9879/9879 [==============================] - 1s 57us/sample - loss: 0.0731 - val_loss: 0.0699\n",
      "Epoch 16/20\n",
      "9879/9879 [==============================] - 0s 49us/sample - loss: 0.0705 - val_loss: 0.0676\n",
      "Epoch 17/20\n",
      "9879/9879 [==============================] - 0s 46us/sample - loss: 0.0683 - val_loss: 0.0655\n",
      "Epoch 18/20\n",
      "9879/9879 [==============================] - 0s 45us/sample - loss: 0.0664 - val_loss: 0.0638\n",
      "Epoch 19/20\n",
      "9879/9879 [==============================] - 0s 45us/sample - loss: 0.0647 - val_loss: 0.0623\n",
      "Epoch 20/20\n",
      "9879/9879 [==============================] - 0s 45us/sample - loss: 0.0633 - val_loss: 0.0609\n",
      "3294/3294 [==============================] - 0s 28us/sample - loss: 0.0630\n"
     ]
    }
   ],
   "source": [
    "model.compile(loss=\"mean_squared_error\", optimizer=keras.optimizers.SGD(lr=1e-3))\n",
    "history = model.fit(X_train, y_train, epochs=20, validation_data=(X_valid, y_valid))\n",
    "mse_test = model.evaluate(X_test, y_test)\n"
   ]
  },
  {
   "cell_type": "code",
   "execution_count": 26,
   "metadata": {},
   "outputs": [
    {
     "data": {
      "text/plain": [
       "0.0629942854091697"
      ]
     },
     "execution_count": 26,
     "metadata": {},
     "output_type": "execute_result"
    }
   ],
   "source": [
    "mse_test"
   ]
  },
  {
   "cell_type": "code",
   "execution_count": 27,
   "metadata": {},
   "outputs": [
    {
     "data": {
      "image/png": "[encoded data removed]",
      "text/plain": [
       "<Figure size 432x288 with 1 Axes>"
      ]
     },
     "metadata": {
      "needs_background": "light"
     },
     "output_type": "display_data"
    }
   ],
   "source": [
    "plt.plot(pd.DataFrame(history.history))\n",
    "plt.grid(True)\n",
    "plt.gca().set_ylim(0, 1)\n",
    "plt.show()"
   ]
  },
  {
   "cell_type": "code",
   "execution_count": 29,
   "metadata": {},
   "outputs": [
    {
     "data": {
      "text/plain": [
       "array([[0.13919196],\n",
       "       [0.2001625 ],\n",
       "       [0.13319358],\n",
       "       ...,\n",
       "       [0.07904427],\n",
       "       [0.09334394],\n",
       "       [0.22915694]], dtype=float32)"
      ]
     },
     "execution_count": 29,
     "metadata": {},
     "output_type": "execute_result"
    }
   ],
   "source": [
    "X_new = X_test\n",
    "model.predict(X_new)"
   ]
  },
  {
   "cell_type": "code",
   "execution_count": 30,
   "metadata": {},
   "outputs": [
    {
     "data": {
      "text/plain": [
       "0.46495885"
      ]
     },
     "execution_count": 30,
     "metadata": {},
     "output_type": "execute_result"
    }
   ],
   "source": [
    "model.predict(X_test).max()"
   ]
  },
  {
   "cell_type": "code",
   "execution_count": 31,
   "metadata": {},
   "outputs": [
    {
     "data": {
      "text/plain": [
       "0.014155358"
      ]
     },
     "execution_count": 31,
     "metadata": {},
     "output_type": "execute_result"
    }
   ],
   "source": [
    "model.predict(X_test).min()"
   ]
  },
  {
   "cell_type": "code",
   "execution_count": 32,
   "metadata": {},
   "outputs": [
    {
     "data": {
      "text/plain": [
       "1.0"
      ]
     },
     "execution_count": 32,
     "metadata": {},
     "output_type": "execute_result"
    }
   ],
   "source": [
    "y.max()"
   ]
  },
  {
   "cell_type": "code",
   "execution_count": 33,
   "metadata": {},
   "outputs": [
    {
     "data": {
      "text/plain": [
       "0.0"
      ]
     },
     "execution_count": 33,
     "metadata": {},
     "output_type": "execute_result"
    }
   ],
   "source": [
    "y.min()"
   ]
  },
  {
   "cell_type": "code",
   "execution_count": 34,
   "metadata": {},
   "outputs": [
    {
     "data": {
      "text/plain": [
       "array([[0.13919196],\n",
       "       [0.2001625 ],\n",
       "       [0.13319358],\n",
       "       ...,\n",
       "       [0.07904427],\n",
       "       [0.09334394],\n",
       "       [0.22915694]], dtype=float32)"
      ]
     },
     "execution_count": 34,
     "metadata": {},
     "output_type": "execute_result"
    }
   ],
   "source": [
    "model.predict(X_new)"
   ]
  },
  {
   "cell_type": "code",
   "execution_count": 35,
   "metadata": {},
   "outputs": [
    {
     "data": {
      "text/plain": [
       "0.46495885"
      ]
     },
     "execution_count": 35,
     "metadata": {},
     "output_type": "execute_result"
    }
   ],
   "source": [
    "model.predict(X_new).max()"
   ]
  },
  {
   "cell_type": "code",
   "execution_count": 36,
   "metadata": {},
   "outputs": [
    {
     "data": {
      "text/plain": [
       "0.014155358"
      ]
     },
     "execution_count": 36,
     "metadata": {},
     "output_type": "execute_result"
    }
   ],
   "source": [
    "model.predict(X_new).min()"
   ]
  },
  {
   "cell_type": "code",
   "execution_count": null,
   "metadata": {},
   "outputs": [],
   "source": [
    "#le derniere column du Df9 et elT"
   ]
  },
  {
   "cell_type": "code",
   "execution_count": 39,
   "metadata": {},
   "outputs": [],
   "source": [
    "df2019 = pd.concat([Df9.iloc[:,-17:],elT],axis=1)\n",
    "res=model.predict(df2019)"
   ]
  },
  {
   "cell_type": "code",
   "execution_count": 40,
   "metadata": {},
   "outputs": [
    {
     "data": {
      "text/plain": [
       "0.0"
      ]
     },
     "execution_count": 40,
     "metadata": {},
     "output_type": "execute_result"
    }
   ],
   "source": [
    "res.min()"
   ]
  },
  {
   "cell_type": "code",
   "execution_count": 41,
   "metadata": {},
   "outputs": [
    {
     "data": {
      "text/plain": [
       "0.9612608"
      ]
     },
     "execution_count": 41,
     "metadata": {},
     "output_type": "execute_result"
    }
   ],
   "source": [
    "res.max()"
   ]
  },
  {
   "cell_type": "code",
   "execution_count": 42,
   "metadata": {},
   "outputs": [
    {
     "data": {
      "text/plain": [
       "array([[0.],\n",
       "       [0.],\n",
       "       [0.],\n",
       "       ...,\n",
       "       [0.],\n",
       "       [0.],\n",
       "       [0.]], dtype=float32)"
      ]
     },
     "execution_count": 42,
     "metadata": {},
     "output_type": "execute_result"
    }
   ],
   "source": [
    "res"
   ]
  },
  {
   "cell_type": "code",
   "execution_count": null,
   "metadata": {},
   "outputs": [],
   "source": []
  }
 ],
 "metadata": {
  "kernelspec": {
   "display_name": "Python 3",
   "language": "python",
   "name": "python3"
  },
  "language_info": {
   "codemirror_mode": {
    "name": "ipython",
    "version": 3
   },
   "file_extension": ".py",
   "mimetype": "text/x-python",
   "name": "python",
   "nbconvert_exporter": "python",
   "pygments_lexer": "ipython3",
   "version": "3.7.3"
  }
 },
 "nbformat": 4,
 "nbformat_minor": 2
}
