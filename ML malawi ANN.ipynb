{
 "cells": [
  {
   "cell_type": "code",
   "execution_count": 586,
   "metadata": {},
   "outputs": [],
   "source": [
    "# TensorFlow ≥2.0 is required\n",
    "import tensorflow as tf\n",
    "\n",
    "\n",
    "# Common imports\n",
    "import pandas as pd\n",
    "import numpy as np\n",
    "import os\n",
    "# to make this notebook's output stable across runs\n",
    "np.random.seed(42)\n",
    "\n",
    "# To plot pretty figures\n",
    "%matplotlib inline\n",
    "import matplotlib as mpl\n",
    "import matplotlib.pyplot as plt\n",
    "mpl.rc('axes', labelsize=14)\n",
    "mpl.rc('xtick', labelsize=12)\n",
    "mpl.rc('ytick', labelsize=12)\n",
    "\n",
    "# Ignore useless warnings (see SciPy issue #5998)\n",
    "import warnings\n",
    "warnings.filterwarnings(action=\"ignore\", message=\"^internal gelsd\")\n"
   ]
  },
  {
   "cell_type": "code",
   "execution_count": 587,
   "metadata": {},
   "outputs": [],
   "source": [
    "np.random.seed(42)"
   ]
  },
  {
   "cell_type": "code",
   "execution_count": 588,
   "metadata": {},
   "outputs": [],
   "source": [
    "from tensorflow import keras"
   ]
  },
  {
   "cell_type": "code",
   "execution_count": 589,
   "metadata": {},
   "outputs": [],
   "source": [
    "Df = pd.read_csv(\"/Users/mac/Downloads/Train.csv\")"
   ]
  },
  {
   "cell_type": "code",
   "execution_count": 590,
   "metadata": {},
   "outputs": [],
   "source": [
    "# 2014\n",
    "Df4 = Df.iloc[:,4:11]\n",
    "\n",
    "# 2015\n",
    "Df5 = Df.iloc[:,11:21]\n",
    "# 2019 \n",
    "Df9 = Df.iloc[:,21:38]"
   ]
  },
  {
   "cell_type": "code",
   "execution_count": 591,
   "metadata": {},
   "outputs": [
    {
     "data": {
      "text/plain": [
       "<Figure size 360x360 with 0 Axes>"
      ]
     },
     "execution_count": 591,
     "metadata": {},
     "output_type": "execute_result"
    },
    {
     "data": {
      "image/png": "[encoded data removed]",
      "text/plain": [
       "<Figure size 432x288 with 1 Axes>"
      ]
     },
     "metadata": {
      "needs_background": "light"
     },
     "output_type": "display_data"
    },
    {
     "data": {
      "text/plain": [
       "<Figure size 360x360 with 0 Axes>"
      ]
     },
     "metadata": {},
     "output_type": "display_data"
    }
   ],
   "source": [
    "plt.plot(Df4.mean(1),color = 'green')\n",
    "plt.plot(Df5.mean(1), color = 'blue')\n",
    "plt.plot(Df9.mean(1), color = 'red')\n",
    "plt.figure(figsize=(5,5))"
   ]
  },
  {
   "cell_type": "code",
   "execution_count": 592,
   "metadata": {},
   "outputs": [],
   "source": [
    "df = pd.concat([Df['Square_ID'],Df4 , Df5],axis=1)\n"
   ]
  },
  {
   "cell_type": "code",
   "execution_count": 593,
   "metadata": {},
   "outputs": [],
   "source": [
    "X = df.drop('Square_ID',axis=1)\n",
    "y = Df['target_2015']"
   ]
  },
  {
   "cell_type": "code",
   "execution_count": 594,
   "metadata": {},
   "outputs": [
    {
     "data": {
      "text/html": [
       "<div>\n",
       "<style scoped>\n",
       "    .dataframe tbody tr th:only-of-type {\n",
       "        vertical-align: middle;\n",
       "    }\n",
       "\n",
       "    .dataframe tbody tr th {\n",
       "        vertical-align: top;\n",
       "    }\n",
       "\n",
       "    .dataframe thead th {\n",
       "        text-align: right;\n",
       "    }\n",
       "</style>\n",
       "<table border=\"1\" class=\"dataframe\">\n",
       "  <thead>\n",
       "    <tr style=\"text-align: right;\">\n",
       "      <th></th>\n",
       "      <th>precip 2014-11-16 - 2014-11-23</th>\n",
       "      <th>precip 2014-11-23 - 2014-11-30</th>\n",
       "      <th>precip 2014-11-30 - 2014-12-07</th>\n",
       "      <th>precip 2014-12-07 - 2014-12-14</th>\n",
       "      <th>precip 2014-12-14 - 2014-12-21</th>\n",
       "      <th>precip 2014-12-21 - 2014-12-28</th>\n",
       "      <th>precip 2014-12-28 - 2015-01-04</th>\n",
       "      <th>precip 2015-01-04 - 2015-01-11</th>\n",
       "      <th>precip 2015-01-11 - 2015-01-18</th>\n",
       "      <th>precip 2015-01-18 - 2015-01-25</th>\n",
       "      <th>precip 2015-01-25 - 2015-02-01</th>\n",
       "      <th>precip 2015-02-01 - 2015-02-08</th>\n",
       "      <th>precip 2015-02-08 - 2015-02-15</th>\n",
       "      <th>precip 2015-02-15 - 2015-02-22</th>\n",
       "      <th>precip 2015-02-22 - 2015-03-01</th>\n",
       "      <th>precip 2015-03-01 - 2015-03-08</th>\n",
       "      <th>precip 2015-03-08 - 2015-03-15</th>\n",
       "    </tr>\n",
       "  </thead>\n",
       "  <tbody>\n",
       "    <tr>\n",
       "      <th>0</th>\n",
       "      <td>0.0</td>\n",
       "      <td>0.0</td>\n",
       "      <td>0.0</td>\n",
       "      <td>14.844025</td>\n",
       "      <td>14.552823</td>\n",
       "      <td>12.237766</td>\n",
       "      <td>57.451361</td>\n",
       "      <td>30.127047</td>\n",
       "      <td>30.449468</td>\n",
       "      <td>1.521829</td>\n",
       "      <td>29.389995</td>\n",
       "      <td>32.878318</td>\n",
       "      <td>8.179804</td>\n",
       "      <td>0.963981</td>\n",
       "      <td>16.659097</td>\n",
       "      <td>3.304466</td>\n",
       "      <td>0.0</td>\n",
       "    </tr>\n",
       "    <tr>\n",
       "      <th>1</th>\n",
       "      <td>0.0</td>\n",
       "      <td>0.0</td>\n",
       "      <td>0.0</td>\n",
       "      <td>14.844025</td>\n",
       "      <td>14.552823</td>\n",
       "      <td>12.237766</td>\n",
       "      <td>57.451361</td>\n",
       "      <td>30.127047</td>\n",
       "      <td>30.449468</td>\n",
       "      <td>1.521829</td>\n",
       "      <td>29.389995</td>\n",
       "      <td>32.878318</td>\n",
       "      <td>8.179804</td>\n",
       "      <td>0.963981</td>\n",
       "      <td>16.659097</td>\n",
       "      <td>3.304466</td>\n",
       "      <td>0.0</td>\n",
       "    </tr>\n",
       "    <tr>\n",
       "      <th>2</th>\n",
       "      <td>0.0</td>\n",
       "      <td>0.0</td>\n",
       "      <td>0.0</td>\n",
       "      <td>14.844025</td>\n",
       "      <td>14.552823</td>\n",
       "      <td>12.237766</td>\n",
       "      <td>57.451361</td>\n",
       "      <td>30.127047</td>\n",
       "      <td>30.449468</td>\n",
       "      <td>1.521829</td>\n",
       "      <td>29.389995</td>\n",
       "      <td>32.878318</td>\n",
       "      <td>8.179804</td>\n",
       "      <td>0.963981</td>\n",
       "      <td>16.659097</td>\n",
       "      <td>3.304466</td>\n",
       "      <td>0.0</td>\n",
       "    </tr>\n",
       "    <tr>\n",
       "      <th>3</th>\n",
       "      <td>0.0</td>\n",
       "      <td>0.0</td>\n",
       "      <td>0.0</td>\n",
       "      <td>14.844025</td>\n",
       "      <td>14.552823</td>\n",
       "      <td>12.237766</td>\n",
       "      <td>57.451361</td>\n",
       "      <td>30.127047</td>\n",
       "      <td>30.449468</td>\n",
       "      <td>1.521829</td>\n",
       "      <td>29.389995</td>\n",
       "      <td>32.878318</td>\n",
       "      <td>8.179804</td>\n",
       "      <td>0.963981</td>\n",
       "      <td>16.659097</td>\n",
       "      <td>3.304466</td>\n",
       "      <td>0.0</td>\n",
       "    </tr>\n",
       "    <tr>\n",
       "      <th>4</th>\n",
       "      <td>0.0</td>\n",
       "      <td>0.0</td>\n",
       "      <td>0.0</td>\n",
       "      <td>14.844025</td>\n",
       "      <td>14.552823</td>\n",
       "      <td>12.237766</td>\n",
       "      <td>57.451361</td>\n",
       "      <td>30.127047</td>\n",
       "      <td>30.449468</td>\n",
       "      <td>1.521829</td>\n",
       "      <td>29.389995</td>\n",
       "      <td>32.878318</td>\n",
       "      <td>8.179804</td>\n",
       "      <td>0.963981</td>\n",
       "      <td>16.659097</td>\n",
       "      <td>3.304466</td>\n",
       "      <td>0.0</td>\n",
       "    </tr>\n",
       "  </tbody>\n",
       "</table>\n",
       "</div>"
      ],
      "text/plain": [
       "   precip 2014-11-16 - 2014-11-23  precip 2014-11-23 - 2014-11-30  \\\n",
       "0                             0.0                             0.0   \n",
       "1                             0.0                             0.0   \n",
       "2                             0.0                             0.0   \n",
       "3                             0.0                             0.0   \n",
       "4                             0.0                             0.0   \n",
       "\n",
       "   precip 2014-11-30 - 2014-12-07  precip 2014-12-07 - 2014-12-14  \\\n",
       "0                             0.0                       14.844025   \n",
       "1                             0.0                       14.844025   \n",
       "2                             0.0                       14.844025   \n",
       "3                             0.0                       14.844025   \n",
       "4                             0.0                       14.844025   \n",
       "\n",
       "   precip 2014-12-14 - 2014-12-21  precip 2014-12-21 - 2014-12-28  \\\n",
       "0                       14.552823                       12.237766   \n",
       "1                       14.552823                       12.237766   \n",
       "2                       14.552823                       12.237766   \n",
       "3                       14.552823                       12.237766   \n",
       "4                       14.552823                       12.237766   \n",
       "\n",
       "   precip 2014-12-28 - 2015-01-04  precip 2015-01-04 - 2015-01-11  \\\n",
       "0                       57.451361                       30.127047   \n",
       "1                       57.451361                       30.127047   \n",
       "2                       57.451361                       30.127047   \n",
       "3                       57.451361                       30.127047   \n",
       "4                       57.451361                       30.127047   \n",
       "\n",
       "   precip 2015-01-11 - 2015-01-18  precip 2015-01-18 - 2015-01-25  \\\n",
       "0                       30.449468                        1.521829   \n",
       "1                       30.449468                        1.521829   \n",
       "2                       30.449468                        1.521829   \n",
       "3                       30.449468                        1.521829   \n",
       "4                       30.449468                        1.521829   \n",
       "\n",
       "   precip 2015-01-25 - 2015-02-01  precip 2015-02-01 - 2015-02-08  \\\n",
       "0                       29.389995                       32.878318   \n",
       "1                       29.389995                       32.878318   \n",
       "2                       29.389995                       32.878318   \n",
       "3                       29.389995                       32.878318   \n",
       "4                       29.389995                       32.878318   \n",
       "\n",
       "   precip 2015-02-08 - 2015-02-15  precip 2015-02-15 - 2015-02-22  \\\n",
       "0                        8.179804                        0.963981   \n",
       "1                        8.179804                        0.963981   \n",
       "2                        8.179804                        0.963981   \n",
       "3                        8.179804                        0.963981   \n",
       "4                        8.179804                        0.963981   \n",
       "\n",
       "   precip 2015-02-22 - 2015-03-01  precip 2015-03-01 - 2015-03-08  \\\n",
       "0                       16.659097                        3.304466   \n",
       "1                       16.659097                        3.304466   \n",
       "2                       16.659097                        3.304466   \n",
       "3                       16.659097                        3.304466   \n",
       "4                       16.659097                        3.304466   \n",
       "\n",
       "   precip 2015-03-08 - 2015-03-15  \n",
       "0                             0.0  \n",
       "1                             0.0  \n",
       "2                             0.0  \n",
       "3                             0.0  \n",
       "4                             0.0  "
      ]
     },
     "execution_count": 594,
     "metadata": {},
     "output_type": "execute_result"
    }
   ],
   "source": [
    "X.head()"
   ]
  },
  {
   "cell_type": "code",
   "execution_count": 595,
   "metadata": {},
   "outputs": [
    {
     "data": {
      "text/plain": [
       "0    0.0\n",
       "1    0.0\n",
       "2    0.0\n",
       "3    0.0\n",
       "4    0.0\n",
       "Name: target_2015, dtype: float64"
      ]
     },
     "execution_count": 595,
     "metadata": {},
     "output_type": "execute_result"
    }
   ],
   "source": [
    "y.head()"
   ]
  },
  {
   "cell_type": "code",
   "execution_count": 596,
   "metadata": {},
   "outputs": [],
   "source": [
    "from sklearn.datasets import fetch_california_housing\n",
    "from sklearn.model_selection import train_test_split\n",
    "from sklearn.preprocessing import StandardScaler\n",
    "\n",
    "X_train_full, X_test, y_train_full, y_test = train_test_split(X, y, test_size=0.20, random_state=42)\n",
    "X_train, X_valid, y_train, y_valid = train_test_split(X_train_full, y_train_full, random_state=42)"
   ]
  },
  {
   "cell_type": "code",
   "execution_count": 597,
   "metadata": {},
   "outputs": [
    {
     "data": {
      "text/plain": [
       "(9879, 17)"
      ]
     },
     "execution_count": 597,
     "metadata": {},
     "output_type": "execute_result"
    }
   ],
   "source": [
    "X_train.shape"
   ]
  },
  {
   "cell_type": "code",
   "execution_count": 598,
   "metadata": {},
   "outputs": [
    {
     "data": {
      "text/plain": [
       "(3294, 17)"
      ]
     },
     "execution_count": 598,
     "metadata": {},
     "output_type": "execute_result"
    }
   ],
   "source": [
    "X_test.shape"
   ]
  },
  {
   "cell_type": "code",
   "execution_count": 599,
   "metadata": {},
   "outputs": [
    {
     "data": {
      "text/plain": [
       "(3293, 17)"
      ]
     },
     "execution_count": 599,
     "metadata": {},
     "output_type": "execute_result"
    }
   ],
   "source": [
    "X_valid.shape"
   ]
  },
  {
   "cell_type": "code",
   "execution_count": 600,
   "metadata": {},
   "outputs": [],
   "source": [
    "scaler = StandardScaler()\n",
    "X_train = scaler.fit_transform(X_train)\n",
    "X_valid = scaler.transform(X_valid)\n",
    "X_test = scaler.transform(X_test)"
   ]
  },
  {
   "cell_type": "code",
   "execution_count": 601,
   "metadata": {},
   "outputs": [
    {
     "data": {
      "text/plain": [
       "(17,)"
      ]
     },
     "execution_count": 601,
     "metadata": {},
     "output_type": "execute_result"
    }
   ],
   "source": [
    "X_train.shape[1:]"
   ]
  },
  {
   "cell_type": "code",
   "execution_count": 602,
   "metadata": {},
   "outputs": [],
   "source": [
    "np.random.seed(42)\n",
    "model = keras.models.Sequential([\n",
    "    keras.layers.Flatten(input_shape=X_train.shape[1:]),\n",
    "    keras.layers.Dense(9, activation=\"relu\"),\n",
    "    keras.layers.Dense(5, activation=\"relu\"),\n",
    "    keras.layers.Dense(1, activation=\"sigmoid\")\n",
    "])\n"
   ]
  },
  {
   "cell_type": "code",
   "execution_count": 603,
   "metadata": {},
   "outputs": [],
   "source": [
    "np.random.seed(42)"
   ]
  },
  {
   "cell_type": "code",
   "execution_count": 604,
   "metadata": {},
   "outputs": [
    {
     "name": "stdout",
     "output_type": "stream",
     "text": [
      "Train on 9879 samples, validate on 3293 samples\n",
      "Epoch 1/20\n",
      "9879/9879 [==============================] - 2s 182us/sample - loss: 0.1660 - val_loss: 0.1531\n",
      "Epoch 2/20\n",
      "9879/9879 [==============================] - 1s 89us/sample - loss: 0.1452 - val_loss: 0.1338\n",
      "Epoch 3/20\n",
      "9879/9879 [==============================] - 1s 87us/sample - loss: 0.1275 - val_loss: 0.1175\n",
      "Epoch 4/20\n",
      "9879/9879 [==============================] - 1s 95us/sample - loss: 0.1136 - val_loss: 0.1055\n",
      "Epoch 5/20\n",
      "9879/9879 [==============================] - 1s 76us/sample - loss: 0.1031 - val_loss: 0.0959\n",
      "Epoch 6/20\n",
      "9879/9879 [==============================] - 1s 74us/sample - loss: 0.0942 - val_loss: 0.0882\n",
      "Epoch 7/20\n",
      "9879/9879 [==============================] - 1s 61us/sample - loss: 0.0874 - val_loss: 0.0822\n",
      "Epoch 8/20\n",
      "9879/9879 [==============================] - 1s 54us/sample - loss: 0.0821 - val_loss: 0.0776\n",
      "Epoch 9/20\n",
      "9879/9879 [==============================] - 1s 55us/sample - loss: 0.0780 - val_loss: 0.0739\n",
      "Epoch 10/20\n",
      "9879/9879 [==============================] - 1s 53us/sample - loss: 0.0746 - val_loss: 0.0709\n",
      "Epoch 11/20\n",
      "9879/9879 [==============================] - 1s 54us/sample - loss: 0.0719 - val_loss: 0.0685\n",
      "Epoch 12/20\n",
      "9879/9879 [==============================] - 1s 54us/sample - loss: 0.0696 - val_loss: 0.0664\n",
      "Epoch 13/20\n",
      "9879/9879 [==============================] - 1s 57us/sample - loss: 0.0677 - val_loss: 0.0647\n",
      "Epoch 14/20\n",
      "9879/9879 [==============================] - 1s 55us/sample - loss: 0.0661 - val_loss: 0.0633\n",
      "Epoch 15/20\n",
      "9879/9879 [==============================] - 1s 59us/sample - loss: 0.0648 - val_loss: 0.0621\n",
      "Epoch 16/20\n",
      "9879/9879 [==============================] - 1s 57us/sample - loss: 0.0636 - val_loss: 0.0610\n",
      "Epoch 17/20\n",
      "9879/9879 [==============================] - 1s 84us/sample - loss: 0.0626 - val_loss: 0.0601\n",
      "Epoch 18/20\n",
      "9879/9879 [==============================] - 1s 78us/sample - loss: 0.0617 - val_loss: 0.0593\n",
      "Epoch 19/20\n",
      "9879/9879 [==============================] - 1s 112us/sample - loss: 0.0609 - val_loss: 0.0586\n",
      "Epoch 20/20\n",
      "9879/9879 [==============================] - 1s 76us/sample - loss: 0.0602 - val_loss: 0.0580\n",
      "3294/3294 [==============================] - 0s 74us/sample - loss: 0.0595\n"
     ]
    }
   ],
   "source": [
    "model.compile(loss=\"mean_squared_error\", optimizer=keras.optimizers.SGD(lr=1e-3))\n",
    "history = model.fit(X_train, y_train, epochs=20, validation_data=(X_valid, y_valid))\n",
    "mse_test = model.evaluate(X_test, y_test)\n"
   ]
  },
  {
   "cell_type": "code",
   "execution_count": 605,
   "metadata": {},
   "outputs": [
    {
     "data": {
      "text/plain": [
       "0.05950244078463544"
      ]
     },
     "execution_count": 605,
     "metadata": {},
     "output_type": "execute_result"
    }
   ],
   "source": [
    "mse_test"
   ]
  },
  {
   "cell_type": "code",
   "execution_count": 606,
   "metadata": {},
   "outputs": [
    {
     "data": {
      "image/png": "[encoded data removed]",
      "text/plain": [
       "<Figure size 432x288 with 1 Axes>"
      ]
     },
     "metadata": {
      "needs_background": "light"
     },
     "output_type": "display_data"
    }
   ],
   "source": [
    "plt.plot(pd.DataFrame(history.history))\n",
    "plt.grid(True)\n",
    "plt.gca().set_ylim(0, 1)\n",
    "plt.show()"
   ]
  },
  {
   "cell_type": "code",
   "execution_count": 607,
   "metadata": {},
   "outputs": [
    {
     "data": {
      "text/plain": [
       "array([[0.2738555],\n",
       "       [0.       ],\n",
       "       [0.       ],\n",
       "       ...,\n",
       "       [0.       ],\n",
       "       [0.       ],\n",
       "       [0.       ]], dtype=float32)"
      ]
     },
     "execution_count": 607,
     "metadata": {},
     "output_type": "execute_result"
    }
   ],
   "source": [
    "y_pred"
   ]
  },
  {
   "cell_type": "code",
   "execution_count": 608,
   "metadata": {},
   "outputs": [
    {
     "data": {
      "text/plain": [
       "array([[0.1146614 ],\n",
       "       [0.14260167],\n",
       "       [0.23192734],\n",
       "       ...,\n",
       "       [0.19546595],\n",
       "       [0.00982887],\n",
       "       [0.03583341]], dtype=float32)"
      ]
     },
     "execution_count": 608,
     "metadata": {},
     "output_type": "execute_result"
    }
   ],
   "source": [
    "X_new = X_test\n",
    "model.predict(X_new)"
   ]
  },
  {
   "cell_type": "code",
   "execution_count": 609,
   "metadata": {},
   "outputs": [
    {
     "data": {
      "text/plain": [
       "0.4739007"
      ]
     },
     "execution_count": 609,
     "metadata": {},
     "output_type": "execute_result"
    }
   ],
   "source": [
    "model.predict(X_test).max()"
   ]
  },
  {
   "cell_type": "code",
   "execution_count": 610,
   "metadata": {},
   "outputs": [
    {
     "data": {
      "text/plain": [
       "0.0098288655"
      ]
     },
     "execution_count": 610,
     "metadata": {},
     "output_type": "execute_result"
    }
   ],
   "source": [
    "model.predict(X_test).min()"
   ]
  },
  {
   "cell_type": "code",
   "execution_count": 611,
   "metadata": {},
   "outputs": [
    {
     "data": {
      "text/plain": [
       "1.0"
      ]
     },
     "execution_count": 611,
     "metadata": {},
     "output_type": "execute_result"
    }
   ],
   "source": [
    "y.max()"
   ]
  },
  {
   "cell_type": "code",
   "execution_count": 612,
   "metadata": {},
   "outputs": [
    {
     "data": {
      "text/plain": [
       "0.0"
      ]
     },
     "execution_count": 612,
     "metadata": {},
     "output_type": "execute_result"
    }
   ],
   "source": [
    "y.min()"
   ]
  },
  {
   "cell_type": "code",
   "execution_count": 613,
   "metadata": {},
   "outputs": [
    {
     "data": {
      "text/plain": [
       "array([[0.1146614 ],\n",
       "       [0.14260167],\n",
       "       [0.23192734],\n",
       "       ...,\n",
       "       [0.19546595],\n",
       "       [0.00982887],\n",
       "       [0.03583341]], dtype=float32)"
      ]
     },
     "execution_count": 613,
     "metadata": {},
     "output_type": "execute_result"
    }
   ],
   "source": [
    "model.predict(X_new)"
   ]
  },
  {
   "cell_type": "code",
   "execution_count": 614,
   "metadata": {},
   "outputs": [
    {
     "data": {
      "text/plain": [
       "0.4739007"
      ]
     },
     "execution_count": 614,
     "metadata": {},
     "output_type": "execute_result"
    }
   ],
   "source": [
    "model.predict(X_new).max()"
   ]
  },
  {
   "cell_type": "code",
   "execution_count": 615,
   "metadata": {},
   "outputs": [
    {
     "data": {
      "text/plain": [
       "0.0098288655"
      ]
     },
     "execution_count": 615,
     "metadata": {},
     "output_type": "execute_result"
    }
   ],
   "source": [
    "model.predict(X_new).min()"
   ]
  },
  {
   "cell_type": "code",
   "execution_count": 616,
   "metadata": {},
   "outputs": [],
   "source": [
    "res=model.predict(df2019.iloc[:,-17:])"
   ]
  },
  {
   "cell_type": "code",
   "execution_count": 617,
   "metadata": {},
   "outputs": [
    {
     "data": {
      "text/plain": [
       "0.0"
      ]
     },
     "execution_count": 617,
     "metadata": {},
     "output_type": "execute_result"
    }
   ],
   "source": [
    "res.min()"
   ]
  },
  {
   "cell_type": "code",
   "execution_count": 618,
   "metadata": {},
   "outputs": [
    {
     "data": {
      "text/plain": [
       "0.9997553"
      ]
     },
     "execution_count": 618,
     "metadata": {},
     "output_type": "execute_result"
    }
   ],
   "source": [
    "res.max()"
   ]
  },
  {
   "cell_type": "code",
   "execution_count": 619,
   "metadata": {},
   "outputs": [
    {
     "data": {
      "text/plain": [
       "array([[0.99974465],\n",
       "       [0.99974465],\n",
       "       [0.99974465],\n",
       "       ...,\n",
       "       [0.        ],\n",
       "       [0.        ],\n",
       "       [0.        ]], dtype=float32)"
      ]
     },
     "execution_count": 619,
     "metadata": {},
     "output_type": "execute_result"
    }
   ],
   "source": [
    "res"
   ]
  },
  {
   "cell_type": "code",
   "execution_count": null,
   "metadata": {},
   "outputs": [],
   "source": []
  }
 ],
 "metadata": {
  "kernelspec": {
   "display_name": "Python 3",
   "language": "python",
   "name": "python3"
  },
  "language_info": {
   "codemirror_mode": {
    "name": "ipython",
    "version": 3
   },
   "file_extension": ".py",
   "mimetype": "text/x-python",
   "name": "python",
   "nbconvert_exporter": "python",
   "pygments_lexer": "ipython3",
   "version": "3.7.3"
  }
 },
 "nbformat": 4,
 "nbformat_minor": 2
}
